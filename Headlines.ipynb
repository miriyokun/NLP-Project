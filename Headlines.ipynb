{
  "nbformat": 4,
  "nbformat_minor": 0,
  "metadata": {
    "colab": {
      "name": "Headlines.ipynb",
      "provenance": [],
      "collapsed_sections": []
    },
    "kernelspec": {
      "name": "python3",
      "display_name": "Python 3"
    },
    "language_info": {
      "name": "python"
    },
    "accelerator": "TPU"
  },
  "cells": [
    {
      "cell_type": "code",
      "execution_count": null,
      "metadata": {
        "colab": {
          "base_uri": "https://localhost:8080/"
        },
        "id": "VZ23CunmTapp",
        "outputId": "f0537ed6-e24e-4a7d-821c-afb826b9ea77"
      },
      "outputs": [
        {
          "output_type": "stream",
          "name": "stdout",
          "text": [
            "Collecting PyPDF2\n",
            "  Downloading PyPDF2-1.26.0.tar.gz (77 kB)\n",
            "\u001b[?25l\r\u001b[K     |████▎                           | 10 kB 17.5 MB/s eta 0:00:01\r\u001b[K     |████████▌                       | 20 kB 11.7 MB/s eta 0:00:01\r\u001b[K     |████████████▊                   | 30 kB 6.8 MB/s eta 0:00:01\r\u001b[K     |█████████████████               | 40 kB 6.2 MB/s eta 0:00:01\r\u001b[K     |█████████████████████▏          | 51 kB 5.4 MB/s eta 0:00:01\r\u001b[K     |█████████████████████████▍      | 61 kB 6.0 MB/s eta 0:00:01\r\u001b[K     |█████████████████████████████▋  | 71 kB 5.9 MB/s eta 0:00:01\r\u001b[K     |████████████████████████████████| 77 kB 3.2 MB/s \n",
            "\u001b[?25hBuilding wheels for collected packages: PyPDF2\n",
            "  Building wheel for PyPDF2 (setup.py) ... \u001b[?25l\u001b[?25hdone\n",
            "  Created wheel for PyPDF2: filename=PyPDF2-1.26.0-py3-none-any.whl size=61101 sha256=08f6c9dbafc61f2bdd48909ba6f65887804f512affcb21597cbc916306309798\n",
            "  Stored in directory: /root/.cache/pip/wheels/80/1a/24/648467ade3a77ed20f35cfd2badd32134e96dd25ca811e64b3\n",
            "Successfully built PyPDF2\n",
            "Installing collected packages: PyPDF2\n",
            "Successfully installed PyPDF2-1.26.0\n"
          ]
        }
      ],
      "source": [
        "!pip install PyPDF2"
      ]
    },
    {
      "cell_type": "code",
      "source": [
        "!pip install geonamescache \n",
        "import geonamescache\n",
        "\n",
        "gc = geonamescache.GeonamesCache()\n"
      ],
      "metadata": {
        "colab": {
          "base_uri": "https://localhost:8080/"
        },
        "id": "f_XYTfn6adQi",
        "outputId": "b730a0d8-81cc-4a25-9f9f-13cca0feba19"
      },
      "execution_count": null,
      "outputs": [
        {
          "output_type": "stream",
          "name": "stdout",
          "text": [
            "Collecting geonamescache\n",
            "  Downloading geonamescache-1.3.0-py3-none-any.whl (2.6 MB)\n",
            "\u001b[K     |████████████████████████████████| 2.6 MB 5.2 MB/s \n",
            "\u001b[?25hInstalling collected packages: geonamescache\n",
            "Successfully installed geonamescache-1.3.0\n"
          ]
        }
      ]
    },
    {
      "cell_type": "code",
      "source": [
        "!pip install unidecode\n",
        "import re\n",
        "from unidecode import unidecode"
      ],
      "metadata": {
        "colab": {
          "base_uri": "https://localhost:8080/"
        },
        "id": "7thvwvRQZnpb",
        "outputId": "948b79e8-1ffe-4a1c-fd69-3f7bccacec84"
      },
      "execution_count": null,
      "outputs": [
        {
          "output_type": "stream",
          "name": "stdout",
          "text": [
            "Collecting unidecode\n",
            "  Downloading Unidecode-1.3.2-py3-none-any.whl (235 kB)\n",
            "\u001b[?25l\r\u001b[K     |█▍                              | 10 kB 16.9 MB/s eta 0:00:01\r\u001b[K     |██▉                             | 20 kB 23.1 MB/s eta 0:00:01\r\u001b[K     |████▏                           | 30 kB 19.7 MB/s eta 0:00:01\r\u001b[K     |█████▋                          | 40 kB 16.7 MB/s eta 0:00:01\r\u001b[K     |███████                         | 51 kB 5.6 MB/s eta 0:00:01\r\u001b[K     |████████▍                       | 61 kB 6.1 MB/s eta 0:00:01\r\u001b[K     |█████████▊                      | 71 kB 5.6 MB/s eta 0:00:01\r\u001b[K     |███████████▏                    | 81 kB 6.2 MB/s eta 0:00:01\r\u001b[K     |████████████▌                   | 92 kB 6.1 MB/s eta 0:00:01\r\u001b[K     |██████████████                  | 102 kB 5.4 MB/s eta 0:00:01\r\u001b[K     |███████████████▎                | 112 kB 5.4 MB/s eta 0:00:01\r\u001b[K     |████████████████▊               | 122 kB 5.4 MB/s eta 0:00:01\r\u001b[K     |██████████████████              | 133 kB 5.4 MB/s eta 0:00:01\r\u001b[K     |███████████████████▌            | 143 kB 5.4 MB/s eta 0:00:01\r\u001b[K     |████████████████████▉           | 153 kB 5.4 MB/s eta 0:00:01\r\u001b[K     |██████████████████████▎         | 163 kB 5.4 MB/s eta 0:00:01\r\u001b[K     |███████████████████████▋        | 174 kB 5.4 MB/s eta 0:00:01\r\u001b[K     |█████████████████████████       | 184 kB 5.4 MB/s eta 0:00:01\r\u001b[K     |██████████████████████████▍     | 194 kB 5.4 MB/s eta 0:00:01\r\u001b[K     |███████████████████████████▉    | 204 kB 5.4 MB/s eta 0:00:01\r\u001b[K     |█████████████████████████████▏  | 215 kB 5.4 MB/s eta 0:00:01\r\u001b[K     |██████████████████████████████▋ | 225 kB 5.4 MB/s eta 0:00:01\r\u001b[K     |████████████████████████████████| 235 kB 5.4 MB/s eta 0:00:01\r\u001b[K     |████████████████████████████████| 235 kB 5.4 MB/s \n",
            "\u001b[?25hInstalling collected packages: unidecode\n",
            "Successfully installed unidecode-1.3.2\n"
          ]
        }
      ]
    },
    {
      "cell_type": "markdown",
      "source": [
        "# Loading Headline Data"
      ],
      "metadata": {
        "id": "JZIeNV2ObwMt"
      }
    },
    {
      "cell_type": "code",
      "source": [
        "headlines_file = open('Headlines.txt','r')\n",
        "headlines =[line.strip()\\\n",
        "    for line in headlines_file.readlines()] \n",
        "num_headlines = len(headlines)\n",
        "print(f'{num_headlines} headlines have been loaded')"
      ],
      "metadata": {
        "colab": {
          "base_uri": "https://localhost:8080/"
        },
        "id": "flcbvz20UEfY",
        "outputId": "fc53f003-a881-41d8-b7ee-cde09e3a1fd3"
      },
      "execution_count": null,
      "outputs": [
        {
          "output_type": "stream",
          "name": "stdout",
          "text": [
            "453 headlines have been loaded\n"
          ]
        }
      ]
    },
    {
      "cell_type": "markdown",
      "source": [
        "# Converting names to regexes"
      ],
      "metadata": {
        "id": "pAXmxLg6b0SZ"
      }
    },
    {
      "cell_type": "code",
      "source": [
        "def name_to_regex(name):\n",
        "    decoded_name = unidecode(name)\n",
        "    if name != decoded_name:\n",
        "        regex = fr'\\b({name}|{decoded_name})\\b'\n",
        "    else:\n",
        "        regex = fr'\\b{name}\\b'\n",
        "    return re.compile(regex,flags = re.IGNORECASE)"
      ],
      "metadata": {
        "id": "4loMLLjDWFjq"
      },
      "execution_count": null,
      "outputs": []
    },
    {
      "cell_type": "markdown",
      "source": [
        "# Mapping names to regex"
      ],
      "metadata": {
        "id": "Cqjj7IG8b48e"
      }
    },
    {
      "cell_type": "code",
      "source": [
        "# mapping to regex\n",
        "countries = [country['name']\n",
        "             for country in gc.get_countries().values()]\n",
        "country_to_name = {name_to_regex(name): name for name in countries}\n",
        "cities = [city['name']\n",
        "          for city in gc.get_cities().values()]\n",
        "city_to_name = {name_to_regex(name): name for name in cities}"
      ],
      "metadata": {
        "id": "BJ72x6OfZhEg"
      },
      "execution_count": null,
      "outputs": []
    },
    {
      "cell_type": "markdown",
      "source": [
        "# Finding locations in text"
      ],
      "metadata": {
        "id": "O-y8p8e1b9Hc"
      }
    },
    {
      "cell_type": "code",
      "source": [
        "def get_name_in_text(text, dictionary):\n",
        "    for regex, name in sorted(dictionary.items(),\n",
        "                              key=lambda x:x[1]):\n",
        "        if regex.search(text):\n",
        "            return name\n",
        "    return None"
      ],
      "metadata": {
        "id": "LBdpYVu6bLCb"
      },
      "execution_count": null,
      "outputs": []
    },
    {
      "cell_type": "markdown",
      "source": [
        "# Finding locations in headlines\n"
      ],
      "metadata": {
        "id": "BPNbUmzSd1SV"
      }
    },
    {
      "cell_type": "code",
      "source": [
        "import pandas as pd\n",
        "\n",
        "matched_countries = [get_name_in_text(headline,country_to_name)\n",
        "    for headline in headlines]\n",
        "matched_cities = [get_name_in_text(headline,city_to_name)\n",
        "                     for headline in headlines]\n",
        "data = {'Headline': headlines, 'City': matched_cities,\n",
        "        'Country': matched_countries}\n",
        "df = pd.DataFrame(data)"
      ],
      "metadata": {
        "id": "1N8M7n_1czyt"
      },
      "execution_count": null,
      "outputs": []
    },
    {
      "cell_type": "markdown",
      "source": [
        "# Summarizing the location data:"
      ],
      "metadata": {
        "id": "yFkaF650eO_J"
      }
    },
    {
      "cell_type": "code",
      "source": [
        "summary = df[['City','Country']].describe()\n",
        "print(summary)"
      ],
      "metadata": {
        "colab": {
          "base_uri": "https://localhost:8080/"
        },
        "id": "n_zMtPDRdUTg",
        "outputId": "b148b556-21fd-4c47-dddc-445e8575da16"
      },
      "execution_count": null,
      "outputs": [
        {
          "output_type": "stream",
          "name": "stdout",
          "text": [
            "       City   Country\n",
            "count   411        15\n",
            "unique  347        10\n",
            "top      Of  Malaysia\n",
            "freq     29         3\n"
          ]
        }
      ]
    },
    {
      "cell_type": "markdown",
      "source": [
        "# Fetching cities named \"of\":"
      ],
      "metadata": {
        "id": "HBaxRX2UgRBU"
      }
    },
    {
      "cell_type": "code",
      "source": [
        "of_cities = df[df['City']=='Of'][['City','Headline']]\n",
        "ten_of_cities = of_cities.head(10)\n",
        "print(ten_of_cities.to_string(index=False))"
      ],
      "metadata": {
        "colab": {
          "base_uri": "https://localhost:8080/"
        },
        "id": "T_POK5wue0aU",
        "outputId": "6fb3999f-369f-4fb8-feb4-386876d4c3b8"
      },
      "execution_count": null,
      "outputs": [
        {
          "output_type": "stream",
          "name": "stdout",
          "text": [
            "City                                                                                        Headline\n",
            "  Of                                                           Case of Measles Reported in Vancouver\n",
            "  Of                         Authorities are Worried about the Spread of Bronchitis in Silver Spring\n",
            "  Of                             Authorities are Worried about the Spread of Mad Cow Disease in Rome\n",
            "  Of                               Authorities are Worried about the Spread of Influenza in Savannah\n",
            "  Of  The Spread of Measles in Spokane has been Confirmed Zika alert for Rio Grande Valley residents\n",
            "  Of                                           Authorities are Worried about the Spread of Dengue in\n",
            "  Of  Urbana Encounters Severe Symptoms of Meningitis Pittsburgh Residents Recieve Norovirus vaccine\n",
            "  Of                                                                Outbreak of Zika in Stephenville\n",
            "  Of         Providence Encounters Severe Symptoms of Dengue Tests negative on Windsor Zika carriers\n",
            "  Of                                  Authorities are Worried about the Spread of Rotavirus in Union\n"
          ]
        }
      ]
    },
    {
      "cell_type": "markdown",
      "source": [
        "# Finding Multicity headlines\n"
      ],
      "metadata": {
        "id": "3QxaYWt2hJxj"
      }
    },
    {
      "cell_type": "code",
      "source": [
        "def get_cities_in_headline(headline):\n",
        "    cities_in_headline = set()\n",
        "    for regex, name in city_to_name.items():\n",
        "        match = regex.search(headline)\n",
        "        if match:\n",
        "            if headline[match.start()].isupper():\n",
        "                cities_in_headline.add(name)\n",
        "    return list(cities_in_headline)\n",
        "\n",
        "df['Cities'] = df['Headline'].apply(\n",
        "    get_cities_in_headline\n",
        ")\n",
        "df['Num_Cities'] = df['Cities'].apply(len)\n",
        "df_multiple_cities = df[df['Num_Cities'] > 1]\n",
        "num_rows, _ = df_multiple_cities.shape\n",
        "print(f'{num_rows} headlines match multiple cities')\n"
      ],
      "metadata": {
        "colab": {
          "base_uri": "https://localhost:8080/"
        },
        "id": "ywzfjBkog139",
        "outputId": "2dc71b8e-7c6a-4aed-cbdc-c0b108a93d6b"
      },
      "execution_count": null,
      "outputs": [
        {
          "output_type": "stream",
          "name": "stdout",
          "text": [
            "208 headlines match multiple cities\n"
          ]
        }
      ]
    },
    {
      "cell_type": "markdown",
      "source": [
        "# Sampling Multicity headlines:"
      ],
      "metadata": {
        "id": "cpaTA-ztjiLa"
      }
    },
    {
      "cell_type": "code",
      "source": [
        "ten_cities = df_multiple_cities[['Cities','Headline']].head(10)\n",
        "print(ten_cities.to_string(index=False))"
      ],
      "metadata": {
        "colab": {
          "base_uri": "https://localhost:8080/"
        },
        "id": "FlygkVKDilBS",
        "outputId": "d06c6552-1709-4a53-922c-723b532d67bb"
      },
      "execution_count": null,
      "outputs": [
        {
          "output_type": "stream",
          "name": "stdout",
          "text": [
            "                                    Cities                                                                                            Headline\n",
            " [New York City, Miami Beach, Miami, York]                                   Could Zika Reach New York City? First Case of Zika in Miami Beach\n",
            "                [Recife, Dallas, Trinidad]   Mystery Virus Spreads in Recife, Brazil Dallas man comes down with case of Zika Trinidad confirms\n",
            "                [Houston, Genève, Atlanta]  Zika Concerns are Spreading in Houston Geneve Scientists Battle to Find Cure The CDC in Atlanta is\n",
            "                  [São Paulo, Brownsville]            Growing Worried Zika Infested Monkeys in Sao Paulo Brownsville teen contracts Zika virus\n",
            "                [San Juan, San, Galveston]         San Juan reports 1st U.S. Zika-related death amid outbreak Flu outbreak in Galveston, Texas\n",
            "                          [Manila, Iloilo]                                   Zika alert — Manila now threatened Zika afflicts 7 in Iloilo City\n",
            "       [Los Ángeles, Orlando, Los Angeles]      New Los Angeles Hairstyle goes Viral Louisiana Zika cases up to 26 Orlando volunteers aid Zika\n",
            "                              [Bay, Tampa]                                                               Tampa Bay Area Zika Case Count Climbs\n",
            "                        [Flint, Baltimore]                       Bad Water Leads to Sickness in Flint, Michigan Baltimore plans for Zika virus\n",
            "      [Philadelphia, Ho, Ho Chi Minh City]                  Zika cases in Vietnam's Ho Chi Minh City surge Philadelphia experts track pandemic\n"
          ]
        }
      ]
    },
    {
      "cell_type": "markdown",
      "source": [
        "# Selecting the longest city names:"
      ],
      "metadata": {
        "id": "s68PqwCgR8ki"
      }
    },
    {
      "cell_type": "code",
      "source": [
        "def get_longest_city(cities):\n",
        "    if cities:\n",
        "        return max(cities, key=len)\n",
        "    return None\n",
        "\n",
        "df['City'] = df['Cities'].apply(get_longest_city)"
      ],
      "metadata": {
        "id": "x1bz8U3mkPar"
      },
      "execution_count": null,
      "outputs": []
    },
    {
      "cell_type": "markdown",
      "source": [
        "# Printing the Shortest City Name:"
      ],
      "metadata": {
        "id": "g1liyodiSbc7"
      }
    },
    {
      "cell_type": "code",
      "source": [
        "short_cities = df[df['City'].str.len() <=4][['City','Headline']]\n",
        "print(short_cities.to_string(index=False))"
      ],
      "metadata": {
        "colab": {
          "base_uri": "https://localhost:8080/"
        },
        "id": "JAdVm1ICSSeN",
        "outputId": "6ab4e7cf-8aec-4622-aac8-7061cf99ab8d"
      },
      "execution_count": null,
      "outputs": [
        {
          "output_type": "stream",
          "name": "stdout",
          "text": [
            " City                                                             Headline\n",
            " Rome  Authorities are Worried about the Spread of Mad Cow Disease in Rome\n",
            " Baud                                            in Baud have been Refuted\n",
            " Kobe                                       Chikungunya re-emerges in Kobe\n",
            " Bonn                    Contaminated Meat Brings Trouble for Bonn Farmers\n",
            " Yuma                                         Zika seminars in Yuma County\n",
            " Lyon                                     Mad Cow Disease Detected in Lyon\n",
            " Yiwu      Authorities are Worried about the Spread of Hepatitis B in Yiwu\n"
          ]
        }
      ]
    },
    {
      "cell_type": "markdown",
      "source": [
        "# Fetching Headlines with Countries:"
      ],
      "metadata": {
        "id": "iODr4SpjTIMJ"
      }
    },
    {
      "cell_type": "code",
      "source": [
        "df_countries = df[df['Country'].notnull()][['City',\n",
        "                                            'Country',\n",
        "                                            'Headline']]\n",
        "print(df_countries.to_string(index=False))"
      ],
      "metadata": {
        "colab": {
          "base_uri": "https://localhost:8080/"
        },
        "id": "WwUGkcXASxCv",
        "outputId": "cbbfd185-6381-4df8-c1e0-48ace36e853f"
      },
      "execution_count": null,
      "outputs": [
        {
          "output_type": "stream",
          "name": "stdout",
          "text": [
            "             City    Country                                                                                           Headline\n",
            "         Trinidad     Brazil  Mystery Virus Spreads in Recife, Brazil Dallas man comes down with case of Zika Trinidad confirms\n",
            " Ho Chi Minh City    Vietnam                 Zika cases in Vietnam's Ho Chi Minh City surge Philadelphia experts track pandemic\n",
            "        San Diego   Thailand     Scientists in Paris to look for answers Key Zika Findings in San Diego Institute Thailand-Zika\n",
            "       Piracicaba     Brazil                            Zika outbreak in Piracicaba, Brazil Lima tries to address Zika Concerns\n",
            "     Fort Collins   Malaysia              Fort Collins Encounters Severe Symptoms of Gonorrhea Zika surfaces in Klang, Malaysia\n",
            "   Guatemala City  Guatemala                              Rumors about Meningitis spreading in Guatemala City have been refuted\n",
            "     Hillsborough     Belize   Hillsborough uses innovative trap against Zika 20 minutes ago Belize City under threat from Zika\n",
            "        Soyapango     Brazil                                      Student sick in Campinas, Brazil More Zika cases in Soyapango\n",
            "      Mexico City     Mexico                 Hepatitis B Vaccine is now Required in Quebec Zika outbreak spreads to Mexico City\n",
            "    Kota Kinabalu   Malaysia                                                           New Zika Case in Kota Kinabalu, Malaysia\n",
            "      Johor Bahru   Malaysia                                         Zika reaches Johor Bahru, Malaysia Nha Trang Zika Outbreak\n",
            "        Hong Kong  Hong Kong                                Molo Cholera Spread Causing Concern Norovirus Exposure in Hong Kong\n",
            "      Panama City     Panama                                   Rhinovirus has Arrived in Athens Outbreak of Zika in Panama City\n",
            "        Singapore  Singapore  Arhus is infested with Bronchitis Zika Troubles come to Niteroi Zika cases in Singapore reach 393\n",
            "   North Bethesda     Panama         Hepatitis D Symptoms Spread all over North Bethesda Panama City's first Zika related death\n"
          ]
        }
      ]
    },
    {
      "cell_type": "code",
      "source": [
        "# dropping the countries from table\n",
        "\n",
        "df.drop('Country', axis=1, inplace=True)"
      ],
      "metadata": {
        "id": "BFjt1DrpTefm"
      },
      "execution_count": null,
      "outputs": []
    },
    {
      "cell_type": "markdown",
      "source": [
        "# Exploring unmatched headlines"
      ],
      "metadata": {
        "id": "T5aY-Y6iUASe"
      }
    },
    {
      "cell_type": "code",
      "source": [
        "df_unmatched = df[df['City'].isnull()]\n",
        "num_unmatched = len(df_unmatched)\n",
        "print(f'{num_unmatched} headlines contain no city matched.')\n",
        "print(df_unmatched.head(10)[['Headline']].values)"
      ],
      "metadata": {
        "colab": {
          "base_uri": "https://localhost:8080/"
        },
        "id": "5mGoV5WqT8qp",
        "outputId": "7856876a-4b41-4cb6-89a3-4c5a13306355"
      },
      "execution_count": null,
      "outputs": [
        {
          "output_type": "stream",
          "name": "stdout",
          "text": [
            "49 headlines contain no city matched.\n",
            "[['first Zika case']\n",
            " ['Zika threat']\n",
            " ['']\n",
            " ['Mandatory']\n",
            " ['']\n",
            " ['Maka City Experiences Influenza Outbreak']\n",
            " ['Zika case']\n",
            " ['']\n",
            " ['']\n",
            " ['Authorities are Worried about the Spread of Dengue in']]\n"
          ]
        }
      ]
    },
    {
      "cell_type": "code",
      "source": [
        "# Dropping the unmatched headlines\n",
        "df = df[~df['City'].isnull()][['City', 'Headline']]"
      ],
      "metadata": {
        "id": "KF_0_NwPUq19"
      },
      "execution_count": null,
      "outputs": []
    },
    {
      "cell_type": "markdown",
      "source": [
        "# Assigning the Geographic coordinates to cities:"
      ],
      "metadata": {
        "id": "sWSSY5e0VRrQ"
      }
    },
    {
      "cell_type": "code",
      "source": [
        "latitudes , longitudes = [], []\n",
        "for city_name in df['City'].values:\n",
        "    city = max(gc.get_cities_by_name(city_name),\n",
        "               key=lambda x: list(x.values())[0]['population'])\n",
        "    city = list(city.values())[0]\n",
        "    latitudes.append(city['latitude'])\n",
        "    longitudes.append(city['longitude'])\n",
        "\n",
        "df = df.assign(Latitude=latitudes, Longitude=longitudes)"
      ],
      "metadata": {
        "id": "xW5vXACZVKmI"
      },
      "execution_count": null,
      "outputs": []
    },
    {
      "cell_type": "markdown",
      "source": [
        "# Plotting a geographical elbow curve"
      ],
      "metadata": {
        "id": "82DCcxDjX8q7"
      }
    },
    {
      "cell_type": "code",
      "source": [
        "from sklearn.cluster import KMeans\n",
        "import matplotlib.pyplot as plt\n",
        "import seaborn as sns"
      ],
      "metadata": {
        "id": "iZ8ICHaoXQaY"
      },
      "execution_count": null,
      "outputs": []
    },
    {
      "cell_type": "code",
      "source": [
        "coordinates = df[['Latitude','Longitude']].values\n",
        "k_values = range(1,10)\n",
        "inertia_values = []\n",
        "for k in k_values:\n",
        "    inertia_values.append(KMeans(k).fit(coordinates).inertia_)\n",
        "\n",
        "plt.plot(range(1,10), inertia_values)\n",
        "plt.xlabel('K')\n",
        "plt.ylabel('Inertia')\n",
        "plt.show()"
      ],
      "metadata": {
        "colab": {
          "base_uri": "https://localhost:8080/",
          "height": 290
        },
        "id": "-rcq6-uvWSZp",
        "outputId": "d2ea0760-3206-42d4-e010-a181c032c5db"
      },
      "execution_count": null,
      "outputs": [
        {
          "output_type": "display_data",
          "data": {
            "image/png": "[encoded data removed]",
            "text/plain": [
              "<Figure size 432x288 with 1 Axes>"
            ]
          },
          "metadata": {
            "needs_background": "light"
          }
        }
      ]
    },
    {
      "cell_type": "markdown",
      "source": [
        "# Defining a NumPy based great-circle metric"
      ],
      "metadata": {
        "id": "kmCyPx5I6v4B"
      }
    },
    {
      "cell_type": "code",
      "source": [
        "import numpy as np\n",
        "from math import sin, cos, asin\n",
        "\n",
        "def great_circle_distance(coord1, coord2,\n",
        "                          radius=3956):\n",
        "    if np.array_equal(coord1, coord2):\n",
        "        return 0.0\n",
        "    coord1, coord2 = np.radians(coord1), np.radians(coord2)\n",
        "    delta_x, delta_y = coord2 - coord1\n",
        "    haversin = sin(delta_x/2)**2 + np.product(\n",
        "        [cos(coord1[0]),\n",
        "         cos(coord2[0]),\n",
        "         sin(delta_y/2)**2]\n",
        "    )\n",
        "    return 2 * radius * asin(haversin **0.5)"
      ],
      "metadata": {
        "id": "JLTBDcSd6kdP"
      },
      "execution_count": null,
      "outputs": []
    },
    {
      "cell_type": "markdown",
      "source": [
        "# using DBSCAN to clsuter cities"
      ],
      "metadata": {
        "id": "yLReeKMD8VYy"
      }
    },
    {
      "cell_type": "code",
      "source": [
        "from sklearn.cluster import DBSCAN\n",
        "\n",
        "metric = great_circle_distance\n",
        "db = DBSCAN(eps=250, min_samples=3, metric=metric)\n",
        "df['Cluster'] = db.fit_predict(coordinates)"
      ],
      "metadata": {
        "id": "6-V8y1hh7x2D"
      },
      "execution_count": null,
      "outputs": []
    },
    {
      "cell_type": "markdown",
      "source": [
        "# Assigning Country codes to cities"
      ],
      "metadata": {
        "id": "s4NXUEgZ-WDx"
      }
    },
    {
      "cell_type": "code",
      "source": [
        "def get_country_code(city_name):\n",
        "    city = max(gc.get_cities_by_name(city_name),\n",
        "               key=lambda x: list(x.values())[0]['population'])\n",
        "    return list(city.values())[0]['countrycode']\n",
        "\n",
        "df['Country_code'] = df['City'].apply(get_country_code)"
      ],
      "metadata": {
        "id": "Be_3mHEW84Eg"
      },
      "execution_count": null,
      "outputs": []
    },
    {
      "cell_type": "code",
      "source": [
        "df.head()"
      ],
      "metadata": {
        "colab": {
          "base_uri": "https://localhost:8080/",
          "height": 316
        },
        "id": "0sZDgRHS_4iK",
        "outputId": "57a479df-d0b8-4650-98a9-9aa7f4dacbda"
      },
      "execution_count": null,
      "outputs": [
        {
          "output_type": "execute_result",
          "data": {
            "text/html": [
              "\n",
              "  <div id=\"df-209eb0c1-8abd-4701-947d-787be5c93dda\">\n",
              "    <div class=\"colab-df-container\">\n",
              "      <div>\n",
              "<style scoped>\n",
              "    .dataframe tbody tr th:only-of-type {\n",
              "        vertical-align: middle;\n",
              "    }\n",
              "\n",
              "    .dataframe tbody tr th {\n",
              "        vertical-align: top;\n",
              "    }\n",
              "\n",
              "    .dataframe thead th {\n",
              "        text-align: right;\n",
              "    }\n",
              "</style>\n",
              "<table border=\"1\" class=\"dataframe\">\n",
              "  <thead>\n",
              "    <tr style=\"text-align: right;\">\n",
              "      <th></th>\n",
              "      <th>City</th>\n",
              "      <th>Headline</th>\n",
              "      <th>Latitude</th>\n",
              "      <th>Longitude</th>\n",
              "      <th>Cluster</th>\n",
              "      <th>Country_code</th>\n",
              "    </tr>\n",
              "  </thead>\n",
              "  <tbody>\n",
              "    <tr>\n",
              "      <th>0</th>\n",
              "      <td>Miami</td>\n",
              "      <td>Zika Outbreak Hits Miami</td>\n",
              "      <td>25.77427</td>\n",
              "      <td>-80.19366</td>\n",
              "      <td>0</td>\n",
              "      <td>US</td>\n",
              "    </tr>\n",
              "    <tr>\n",
              "      <th>1</th>\n",
              "      <td>New York City</td>\n",
              "      <td>Could Zika Reach New York City? First Case of ...</td>\n",
              "      <td>40.71427</td>\n",
              "      <td>-74.00597</td>\n",
              "      <td>0</td>\n",
              "      <td>US</td>\n",
              "    </tr>\n",
              "    <tr>\n",
              "      <th>2</th>\n",
              "      <td>Trinidad</td>\n",
              "      <td>Mystery Virus Spreads in Recife, Brazil Dallas...</td>\n",
              "      <td>-14.83333</td>\n",
              "      <td>-64.90000</td>\n",
              "      <td>-1</td>\n",
              "      <td>BO</td>\n",
              "    </tr>\n",
              "    <tr>\n",
              "      <th>4</th>\n",
              "      <td>Houston</td>\n",
              "      <td>Zika Concerns are Spreading in Houston Geneve ...</td>\n",
              "      <td>29.76328</td>\n",
              "      <td>-95.36327</td>\n",
              "      <td>0</td>\n",
              "      <td>US</td>\n",
              "    </tr>\n",
              "    <tr>\n",
              "      <th>5</th>\n",
              "      <td>Brownsville</td>\n",
              "      <td>Growing Worried Zika Infested Monkeys in Sao P...</td>\n",
              "      <td>25.90175</td>\n",
              "      <td>-97.49748</td>\n",
              "      <td>0</td>\n",
              "      <td>US</td>\n",
              "    </tr>\n",
              "  </tbody>\n",
              "</table>\n",
              "</div>\n",
              "      <button class=\"colab-df-convert\" onclick=\"convertToInteractive('df-209eb0c1-8abd-4701-947d-787be5c93dda')\"\n",
              "              title=\"Convert this dataframe to an interactive table.\"\n",
              "              style=\"display:none;\">\n",
              "        \n",
              "  <svg xmlns=\"http://www.w3.org/2000/svg\" height=\"24px\"viewBox=\"0 0 24 24\"\n",
              "       width=\"24px\">\n",
              "    <path d=\"M0 0h24v24H0V0z\" fill=\"none\"/>\n",
              "    <path d=\"M18.56 5.44l.94 2.06.94-2.06 2.06-.94-2.06-.94-.94-2.06-.94 2.06-2.06.94zm-11 1L8.5 8.5l.94-2.06 2.06-.94-2.06-.94L8.5 2.5l-.94 2.06-2.06.94zm10 10l.94 2.06.94-2.06 2.06-.94-2.06-.94-.94-2.06-.94 2.06-2.06.94z\"/><path d=\"M17.41 7.96l-1.37-1.37c-.4-.4-.92-.59-1.43-.59-.52 0-1.04.2-1.43.59L10.3 9.45l-7.72 7.72c-.78.78-.78 2.05 0 2.83L4 21.41c.39.39.9.59 1.41.59.51 0 1.02-.2 1.41-.59l7.78-7.78 2.81-2.81c.8-.78.8-2.07 0-2.86zM5.41 20L4 18.59l7.72-7.72 1.47 1.35L5.41 20z\"/>\n",
              "  </svg>\n",
              "      </button>\n",
              "      \n",
              "  <style>\n",
              "    .colab-df-container {\n",
              "      display:flex;\n",
              "      flex-wrap:wrap;\n",
              "      gap: 12px;\n",
              "    }\n",
              "\n",
              "    .colab-df-convert {\n",
              "      background-color: #E8F0FE;\n",
              "      border: none;\n",
              "      border-radius: 50%;\n",
              "      cursor: pointer;\n",
              "      display: none;\n",
              "      fill: #1967D2;\n",
              "      height: 32px;\n",
              "      padding: 0 0 0 0;\n",
              "      width: 32px;\n",
              "    }\n",
              "\n",
              "    .colab-df-convert:hover {\n",
              "      background-color: #E2EBFA;\n",
              "      box-shadow: 0px 1px 2px rgba(60, 64, 67, 0.3), 0px 1px 3px 1px rgba(60, 64, 67, 0.15);\n",
              "      fill: #174EA6;\n",
              "    }\n",
              "\n",
              "    [theme=dark] .colab-df-convert {\n",
              "      background-color: #3B4455;\n",
              "      fill: #D2E3FC;\n",
              "    }\n",
              "\n",
              "    [theme=dark] .colab-df-convert:hover {\n",
              "      background-color: #434B5C;\n",
              "      box-shadow: 0px 1px 3px 1px rgba(0, 0, 0, 0.15);\n",
              "      filter: drop-shadow(0px 1px 2px rgba(0, 0, 0, 0.3));\n",
              "      fill: #FFFFFF;\n",
              "    }\n",
              "  </style>\n",
              "\n",
              "      <script>\n",
              "        const buttonEl =\n",
              "          document.querySelector('#df-209eb0c1-8abd-4701-947d-787be5c93dda button.colab-df-convert');\n",
              "        buttonEl.style.display =\n",
              "          google.colab.kernel.accessAllowed ? 'block' : 'none';\n",
              "\n",
              "        async function convertToInteractive(key) {\n",
              "          const element = document.querySelector('#df-209eb0c1-8abd-4701-947d-787be5c93dda');\n",
              "          const dataTable =\n",
              "            await google.colab.kernel.invokeFunction('convertToInteractive',\n",
              "                                                     [key], {});\n",
              "          if (!dataTable) return;\n",
              "\n",
              "          const docLinkHtml = 'Like what you see? Visit the ' +\n",
              "            '<a target=\"_blank\" href=https://colab.research.google.com/notebooks/data_table.ipynb>data table notebook</a>'\n",
              "            + ' to learn more about interactive tables.';\n",
              "          element.innerHTML = '';\n",
              "          dataTable['output_type'] = 'display_data';\n",
              "          await google.colab.output.renderOutput(dataTable, element);\n",
              "          const docLink = document.createElement('div');\n",
              "          docLink.innerHTML = docLinkHtml;\n",
              "          element.appendChild(docLink);\n",
              "        }\n",
              "      </script>\n",
              "    </div>\n",
              "  </div>\n",
              "  "
            ],
            "text/plain": [
              "            City  ... Country_code\n",
              "0          Miami  ...           US\n",
              "1  New York City  ...           US\n",
              "2       Trinidad  ...           BO\n",
              "4        Houston  ...           US\n",
              "5    Brownsville  ...           US\n",
              "\n",
              "[5 rows x 6 columns]"
            ]
          },
          "metadata": {},
          "execution_count": 33
        }
      ]
    },
    {
      "cell_type": "code",
      "source": [
        "df_us = df[df['Country_code']=='US']\n",
        "df_not_us = df[df['Country_code'] != 'US']"
      ],
      "metadata": {
        "id": "dPisnjQhAO0U"
      },
      "execution_count": null,
      "outputs": []
    },
    {
      "cell_type": "code",
      "source": [
        "def re_cluster(input_df, eps):\n",
        "    input_coord = input_df[['Latitude',\n",
        "                            'Longitude']].values\n",
        "    db = DBSCAN(eps=eps, min_samples=3,\n",
        "                metric=great_circle_distance)\n",
        "    clusters = db.fit_predict(input_coord)\n",
        "    input_df = input_df.assign(Cluster=clusters)\n",
        "    return input_df[input_df['Cluster']> -1]\n",
        "\n",
        "df_not_us = re_cluster(df_not_us, 250)\n",
        "df_us = re_cluster(df_us,125)"
      ],
      "metadata": {
        "id": "27sYkmJyB57B"
      },
      "execution_count": null,
      "outputs": []
    },
    {
      "cell_type": "code",
      "source": [
        "groups = df_not_us.groupby('Cluster')\n",
        "num_groups = len(groups)\n",
        "print(f'{num_groups} Non-US clusters have been detected')\n"
      ],
      "metadata": {
        "colab": {
          "base_uri": "https://localhost:8080/"
        },
        "id": "6k6IqA23FMmu",
        "outputId": "7456f32a-889b-4df3-f97e-e8bf2fcafc1c"
      },
      "execution_count": null,
      "outputs": [
        {
          "output_type": "stream",
          "name": "stdout",
          "text": [
            "20 Non-US clusters have been detected\n"
          ]
        }
      ]
    },
    {
      "cell_type": "code",
      "source": [
        "sorted_groups = sorted(groups, \n",
        "                       key=lambda x: len(x[1]),\n",
        "                       reverse=True)\n",
        "group_id, largest_group = sorted_groups[0]\n",
        "group_size = len(largest_group)\n",
        "print(f'Largest cluster contains {group_size} headlines')"
      ],
      "metadata": {
        "colab": {
          "base_uri": "https://localhost:8080/"
        },
        "id": "bM2zmGPHFo3a",
        "outputId": "5af06054-46c8-47fd-f489-2ce85f9099e4"
      },
      "execution_count": null,
      "outputs": [
        {
          "output_type": "stream",
          "name": "stdout",
          "text": [
            "Largest cluster contains 32 headlines\n"
          ]
        }
      ]
    },
    {
      "cell_type": "markdown",
      "source": [
        "# Computing the Cluster Centrality:"
      ],
      "metadata": {
        "id": "4Y6Ue-dRHye5"
      }
    },
    {
      "cell_type": "code",
      "source": [
        "def compute_centrality(group):\n",
        "    group_coords = group[['Latitude',\n",
        "                          'Longitude']].values\n",
        "    center = group_coords.mean(axis=0)\n",
        "    distance_to_center = [great_circle_distance\n",
        "                          (center, coord) \n",
        "                          for coord in group_coords]\n",
        "    group['Distance_to_center'] = distance_to_center"
      ],
      "metadata": {
        "id": "s3x3ZQWkHm7w"
      },
      "execution_count": null,
      "outputs": []
    },
    {
      "cell_type": "markdown",
      "source": [
        "# Finding the central headlines in the Largest cluster"
      ],
      "metadata": {
        "id": "L18_Xlt_JEsb"
      }
    },
    {
      "cell_type": "code",
      "source": [
        "def sort_by_centrality(group):\n",
        "    compute_centrality(group)\n",
        "    return group.sort_values(by=['Distance_to_center'],\n",
        "                             ascending=True)\n",
        "\n",
        "largest_group = sort_by_centrality(largest_group)    \n",
        "for headline in largest_group['Headline'].values[:5]:\n",
        "    print(headline)\n"
      ],
      "metadata": {
        "colab": {
          "base_uri": "https://localhost:8080/"
        },
        "id": "ty_VKSQ0Iy75",
        "outputId": "e80e7e31-e6c4-4461-f4c5-b0c96d79472b"
      },
      "execution_count": null,
      "outputs": [
        {
          "output_type": "stream",
          "name": "stdout",
          "text": [
            "More Livestock in Fontainebleau are infected with Mad Cow Disease\n",
            "Scranton authorities confirmed the spread of Gonorrhea Mad Cow Disease Disastrous to Brussels\n",
            "Milwaukee authorities confirmed the spread of Rhinovirus Mad Cow Disease Hits Rotterdam\n",
            "Contaminated Meat Brings Trouble for Bonn Farmers\n",
            "Case of Mad Cow Disease Reported in Hilden\n"
          ]
        }
      ]
    },
    {
      "cell_type": "markdown",
      "source": [
        "# Finding the top 3 countries in the largest cluster"
      ],
      "metadata": {
        "id": "wAHJcsHALAWZ"
      }
    },
    {
      "cell_type": "code",
      "source": [
        "from collections import Counter\n",
        "\n",
        "def top_countries(group):\n",
        "    countries = [gc.get_countries()[country_code]['name']\n",
        "                 for country_code in group['Country_code'].values]\n",
        "    return Counter(countries).most_common(3)\n",
        "\n",
        "print(top_countries(largest_group))"
      ],
      "metadata": {
        "colab": {
          "base_uri": "https://localhost:8080/"
        },
        "id": "Bbvlt0UdKprp",
        "outputId": "0aadf590-6e89-4f8e-cfe8-5635952aea43"
      },
      "execution_count": null,
      "outputs": [
        {
          "output_type": "stream",
          "name": "stdout",
          "text": [
            "[('United Kingdom', 11), ('France', 4), ('Germany', 4)]\n"
          ]
        }
      ]
    },
    {
      "cell_type": "markdown",
      "source": [
        "# Summarizing content in the largest clusters:"
      ],
      "metadata": {
        "id": "VahpoOr8MDMi"
      }
    },
    {
      "cell_type": "code",
      "source": [
        "for _, group in sorted_groups[1:5]:\n",
        "    sorted_group = sort_by_centrality(group)\n",
        "    print(top_countries(sorted_group))\n",
        "    for headline in sorted_group['Headline'].values[:5]:\n",
        "        print(headline)\n",
        "    print('\\n')"
      ],
      "metadata": {
        "colab": {
          "base_uri": "https://localhost:8080/"
        },
        "id": "-nDlP4i-Lxao",
        "outputId": "19602b47-8d7e-4556-d4f4-19b48b42e574"
      },
      "execution_count": null,
      "outputs": [
        {
          "output_type": "stream",
          "name": "stdout",
          "text": [
            "[('Thailand', 5), ('Cambodia', 2), ('Vietnam', 1)]\n",
            "Chanthaburi\n",
            "Virus in Bangkok\n",
            "How to Avoid Contaminated Meat when Visiting Basel More Zika patients reported in Kampong Speu\n",
            "Herpes Keeps Spreading in Rochester Zika case reported in Phetchabun\n",
            "Zika Troubles come to Kampong Cham Zika case reported in Rizal\n",
            "\n",
            "\n",
            "[('Colombia', 7)]\n",
            "Zika spreads to Caucasia\n",
            "Zika symptoms spotted in Bello\n",
            "Zika case reported in Medellin\n",
            "Zika Outbreak in Sincelejo\n",
            "18 new Zika Cases in Bogota Spanish Flu Sighted in Antigua\n",
            "\n",
            "\n",
            "[('Philippines', 6)]\n",
            "More Zika patients reported in Camacari Outbreak of Zika in Pasig City\n",
            "More Zika patients reported in Calumpang Zika symptoms spotted in Quisqueya\n",
            "New Vaccine on Trial in Bethesda District Townsville Zika tests inconclusive Mandaluyong City under\n",
            "More Quezon City Zika Transmissions\n",
            "Antipolo under threat from Zika Virus Spreading Zika reaches Bacoor\n",
            "\n",
            "\n",
            "[('El Salvador', 3), ('Guatemala', 1), ('Honduras', 1)]\n",
            "Student sick in Campinas, Brazil More Zika cases in Soyapango\n",
            "How to Avoid Hepatitis B in Trenton Zika Reported in Ilopango\n",
            "Siege by Virus Hepatitis E re-emerges in Santa Rosa  Zika worries in San Salvador\n",
            "Rumors about Meningitis spreading in Guatemala City have been refuted\n",
            "Precautionary Zika measures in Rockhampton Zika arrives in Tegucigalpa\n",
            "\n",
            "\n"
          ]
        }
      ]
    },
    {
      "cell_type": "markdown",
      "source": [
        "# Summarizing Content within the largest US Clusters:"
      ],
      "metadata": {
        "id": "FpQfLCHyNNZX"
      }
    },
    {
      "cell_type": "code",
      "source": [
        "us_groups = df_us.groupby('Cluster')\n",
        "us_sorted_groups = sorted(us_groups,\n",
        "                          key=lambda x: len(x[1]),\n",
        "                          reverse=True)\n",
        "for _, group in sorted_groups[:5]:\n",
        "    sorted_group = sort_by_centrality(group)\n",
        "    for headline in sorted_group['Headline'].values[:5]:\n",
        "        print(headline)\n",
        "    print('\\n')"
      ],
      "metadata": {
        "colab": {
          "base_uri": "https://localhost:8080/"
        },
        "id": "PLexrgyGNCpF",
        "outputId": "be010c91-53bb-48c1-9735-6dc27d3622e6"
      },
      "execution_count": null,
      "outputs": [
        {
          "output_type": "stream",
          "name": "stdout",
          "text": [
            "More Livestock in Fontainebleau are infected with Mad Cow Disease\n",
            "Scranton authorities confirmed the spread of Gonorrhea Mad Cow Disease Disastrous to Brussels\n",
            "Milwaukee authorities confirmed the spread of Rhinovirus Mad Cow Disease Hits Rotterdam\n",
            "Contaminated Meat Brings Trouble for Bonn Farmers\n",
            "Case of Mad Cow Disease Reported in Hilden\n",
            "\n",
            "\n",
            "Chanthaburi\n",
            "Virus in Bangkok\n",
            "How to Avoid Contaminated Meat when Visiting Basel More Zika patients reported in Kampong Speu\n",
            "Herpes Keeps Spreading in Rochester Zika case reported in Phetchabun\n",
            "Zika Troubles come to Kampong Cham Zika case reported in Rizal\n",
            "\n",
            "\n",
            "Zika spreads to Caucasia\n",
            "Zika symptoms spotted in Bello\n",
            "Zika case reported in Medellin\n",
            "Zika Outbreak in Sincelejo\n",
            "18 new Zika Cases in Bogota Spanish Flu Sighted in Antigua\n",
            "\n",
            "\n",
            "More Zika patients reported in Camacari Outbreak of Zika in Pasig City\n",
            "More Zika patients reported in Calumpang Zika symptoms spotted in Quisqueya\n",
            "New Vaccine on Trial in Bethesda District Townsville Zika tests inconclusive Mandaluyong City under\n",
            "More Quezon City Zika Transmissions\n",
            "Antipolo under threat from Zika Virus Spreading Zika reaches Bacoor\n",
            "\n",
            "\n",
            "Student sick in Campinas, Brazil More Zika cases in Soyapango\n",
            "How to Avoid Hepatitis B in Trenton Zika Reported in Ilopango\n",
            "Siege by Virus Hepatitis E re-emerges in Santa Rosa  Zika worries in San Salvador\n",
            "Rumors about Meningitis spreading in Guatemala City have been refuted\n",
            "Precautionary Zika measures in Rockhampton Zika arrives in Tegucigalpa\n",
            "\n",
            "\n"
          ]
        }
      ]
    },
    {
      "cell_type": "code",
      "source": [
        ""
      ],
      "metadata": {
        "id": "X8sxFf_oOJ0s"
      },
      "execution_count": null,
      "outputs": []
    }
  ]
}